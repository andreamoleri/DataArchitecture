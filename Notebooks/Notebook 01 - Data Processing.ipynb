{
 "cells": [
  {
   "metadata": {},
   "cell_type": "markdown",
   "source": [
    "# Data Processing\n",
    "\n",
    "The provided code snippet is used to process a dataset containing airport information using Python's pandas library. Initially, the script imports necessary modules, `pandas` and `numpy`, for data manipulation and generation, respectively. The dataset, located at `'../Data/osm-world-airports@babel.csv'`, is read into a pandas DataFrame, employing specific parsing parameters (`delimiter=';'`, `on_bad_lines='skip'`, `engine='python'`) to handle potential errors.\n",
    "\n",
    "Following this, a random 'Size' column is introduced to denote the size of each airport, utilizing numpy's random integer generation. Rows with missing values in critical columns ('Country', 'Country code', 'IATA code', 'ICAO code') are subsequently dropped to ensure data integrity. Superfluous columns such as 'other_tags', 'Description', 'Wikipedia id', 'Wikidata id', 'Edit in OSM', and 'Source' are removed from the DataFrame to streamline further analysis.\n",
    "\n",
    "To mitigate potential parsing complications in CSV files, certain columns (`'Geo Point'`, `'Name'`, `'Phone'`, `'Name (en)'`, `'Name (fr)'`, `'Operator'`, `'Website'`) are processed to replace commas with semicolons, enhancing data consistency and facilitating seamless parsing.\n",
    "\n",
    "The cleaned DataFrame (`df`) represents structured airport data, where:\n",
    "- **IATA code** refers to the unique three-letter code assigned by the International Air Transport Association to identify airports.\n",
    "- **ICAO code** denotes the four-letter code designated by the International Civil Aviation Organization for individual airports and airspace globally.\n",
    "- **Country** signifies the country in which each airport is located.\n",
    "- **Country code** represents the standard two-letter code assigned to countries according to ISO 3166-1 alpha-2.\n",
    "- **Name** denotes the official name of the airport.\n",
    "- **Size** indicates a randomly generated numerical value representing the size of each airport.\n",
    "\n",
    "The final processed DataFrame (`df`) can be displayed for examination or utilized for subsequent analytical tasks as per specific project requirements.\n"
   ],
   "id": "94cee9f144e172a9"
  },
  {
   "cell_type": "code",
   "id": "initial_id",
   "metadata": {
    "collapsed": true,
    "ExecuteTime": {
     "end_time": "2024-06-27T12:46:47.235132Z",
     "start_time": "2024-06-27T12:46:46.330995Z"
    }
   },
   "source": [
    "import pandas as pd\n",
    "import numpy as np\n",
    "\n",
    "# Define the file path of the dataset\n",
    "file_path = '../Data/osm-world-airports@babel.csv'\n",
    "\n",
    "# Read the CSV file into a pandas DataFrame\n",
    "# Skipping lines that cause parsing errors, using Python engine\n",
    "df = pd.read_csv(file_path, delimiter=';', on_bad_lines='skip', engine='python')\n",
    "\n",
    "# Generate a random 'Size' column for each airport in the DataFrame\n",
    "df['Size'] = np.random.randint(100, 500, size=len(df))\n",
    "\n",
    "# Drop rows with missing values in critical columns ('Country', 'Country code', 'IATA code', 'ICAO code')\n",
    "df = df.dropna(subset=['Country', 'Country code', 'IATA code', 'ICAO code'])\n",
    "\n",
    "# Remove unnecessary columns from the DataFrame\n",
    "df = df.drop(labels=[\"other_tags\", \"Description\", \"Wikipedia id\", \"Wikidata id\", \"Edit in OSM\", \"Source\"], axis=1, inplace=False)\n",
    "\n",
    "# Replace commas (',') in specific columns with semicolons (';') to avoid CSV parsing issues\n",
    "df['Geo Point'] = df['Geo Point'].str.replace(',', ';')\n",
    "df['Name'] = df['Name'].str.replace(',', ';')\n",
    "df['Phone'] = df['Phone'].str.replace(',', ';')\n",
    "df['Name (en)'] = df['Name (en)'].str.replace(',', ';')\n",
    "df['Name (fr)'] = df['Name (fr)'].str.replace(',', ';')\n",
    "df['Operator'] = df['Operator'].str.replace(',', ';')\n",
    "df['Website'] = df['Website'].str.replace(',', ';')\n",
    "\n",
    "# Display or further process the cleaned DataFrame\n",
    "df\n",
    "\n",
    "# Save the cleaned DataFrame to Disk\n",
    "df.to_csv(\"../Data/Airports.csv\")"
   ],
   "outputs": [],
   "execution_count": 1
  },
  {
   "metadata": {},
   "cell_type": "code",
   "outputs": [],
   "execution_count": null,
   "source": "",
   "id": "5e249f98343c97cd"
  }
 ],
 "metadata": {
  "kernelspec": {
   "display_name": "Python 3",
   "language": "python",
   "name": "python3"
  },
  "language_info": {
   "codemirror_mode": {
    "name": "ipython",
    "version": 2
   },
   "file_extension": ".py",
   "mimetype": "text/x-python",
   "name": "python",
   "nbconvert_exporter": "python",
   "pygments_lexer": "ipython2",
   "version": "2.7.6"
  }
 },
 "nbformat": 4,
 "nbformat_minor": 5
}
